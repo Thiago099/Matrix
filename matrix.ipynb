{
 "cells": [
  {
   "cell_type": "code",
   "execution_count": 64,
   "source": [
    "import gaal as ga\r\n",
    "\r\n",
    "def printr(vec):\r\n",
    "    if(isinstance(vec, str)):\r\n",
    "        print(vec)\r\n",
    "        print()\r\n",
    "        return\r\n",
    "    if(not isinstance(vec,list)):\r\n",
    "        return\r\n",
    "    for i in vec:\r\n",
    "        print(i)\r\n",
    "    print()"
   ],
   "outputs": [],
   "metadata": {}
  },
  {
   "cell_type": "markdown",
   "source": [
    "# Multiplication"
   ],
   "metadata": {}
  },
  {
   "cell_type": "code",
   "execution_count": 59,
   "source": [
    "a = [\r\n",
    "    [1, 2, 4],\r\n",
    "    [2, 6, 0]\r\n",
    "]\r\n",
    "\r\n",
    "b = [\r\n",
    "    [4, 1, 4, 3],\r\n",
    "    [0,-1, 3, 1],\r\n",
    "    [2, 7, 5, 2]\r\n",
    "]\r\n",
    "\r\n",
    "printr(ga.multiply(a, b))"
   ],
   "outputs": [
    {
     "output_type": "stream",
     "name": "stdout",
     "text": [
      "[12, 27, 30, 13]\n",
      "[8, -4, 26, 12]\n",
      "\n"
     ]
    }
   ],
   "metadata": {}
  },
  {
   "cell_type": "markdown",
   "source": [
    "# Transpose"
   ],
   "metadata": {}
  },
  {
   "cell_type": "code",
   "execution_count": 60,
   "source": [
    "c = [\r\n",
    "    [2, 3],\r\n",
    "    [1, 4],\r\n",
    "    [5, 6]\r\n",
    "]\r\n",
    "\r\n",
    "printr(ga.transpose(c))"
   ],
   "outputs": [
    {
     "output_type": "stream",
     "name": "stdout",
     "text": [
      "[2, 1, 5]\n",
      "[3, 4, 6]\n",
      "\n",
      "[20, 30]\n",
      "[10, 40]\n",
      "[50, 60]\n",
      "\n"
     ]
    }
   ],
   "metadata": {}
  },
  {
   "cell_type": "markdown",
   "source": [
    "# Multiply by constant"
   ],
   "metadata": {}
  },
  {
   "cell_type": "code",
   "execution_count": null,
   "source": [
    "printr(ga.multiply_constant(c,10))"
   ],
   "outputs": [],
   "metadata": {}
  },
  {
   "cell_type": "markdown",
   "source": [
    "# Trace\r\n",
    "sum of the xy diagonal"
   ],
   "metadata": {}
  },
  {
   "cell_type": "code",
   "execution_count": 63,
   "source": [
    "d = [\r\n",
    "    [1, 2, 3],\r\n",
    "    [4, 5, 6],\r\n",
    "    [7, 8, 9],\r\n",
    "]\r\n",
    "\r\n",
    "printr(ga.trace(d))"
   ],
   "outputs": [],
   "metadata": {}
  },
  {
   "cell_type": "markdown",
   "source": [
    "# Reverse"
   ],
   "metadata": {}
  },
  {
   "cell_type": "code",
   "execution_count": 65,
   "source": [
    "e = [\r\n",
    "    [ 2,-5],\r\n",
    "    [-1, 3],\r\n",
    "]\r\n",
    "\r\n",
    "f = [\r\n",
    "    [3, 5],\r\n",
    "    [1, 2],\r\n",
    "]\r\n",
    "\r\n",
    "g = [\r\n",
    "    [1, 2, 2],\r\n",
    "    [4, 4, 6],\r\n",
    "    [3, 2, 6]\r\n",
    "]\r\n",
    "\r\n",
    "printr(ga.find_reverse(e))\r\n",
    "\r\n",
    "printr(ga.find_reverse(g))"
   ],
   "outputs": [
    {
     "output_type": "stream",
     "name": "stdout",
     "text": [
      "[3.0, 5.0]\n",
      "[1.0, 2.0]\n",
      "\n",
      "[-1.5, 1.0, -0.5]\n",
      "[0.75, 0.0, -0.25]\n",
      "[0.5, -0.5, 0.5]\n",
      "\n"
     ]
    }
   ],
   "metadata": {}
  }
 ],
 "metadata": {
  "orig_nbformat": 4,
  "language_info": {
   "name": "python",
   "version": "3.9.1",
   "mimetype": "text/x-python",
   "codemirror_mode": {
    "name": "ipython",
    "version": 3
   },
   "pygments_lexer": "ipython3",
   "nbconvert_exporter": "python",
   "file_extension": ".py"
  },
  "kernelspec": {
   "name": "python3",
   "display_name": "Python 3.9.1 64-bit"
  },
  "interpreter": {
   "hash": "ac59ebe37160ed0dfa835113d9b8498d9f09ceb179beaac4002f036b9467c963"
  }
 },
 "nbformat": 4,
 "nbformat_minor": 2
}