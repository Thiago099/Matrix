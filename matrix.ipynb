{
 "cells": [
  {
   "cell_type": "code",
   "execution_count": 9,
   "source": [
    "a = [\r\n",
    "    [1, 2, 4],\r\n",
    "    [2, 6, 0]\r\n",
    "]\r\n",
    "\r\n",
    "b = [\r\n",
    "    [4, 1, 4, 3],\r\n",
    "    [0,-1, 3, 1],\r\n",
    "    [2, 7, 5, 2]\r\n",
    "]\r\n",
    "\r\n",
    "\r\n",
    "result = []\r\n",
    "for i in range(len(a)):\r\n",
    "    current = []\r\n",
    "    result.append(current)\r\n",
    "    for j in range(len(b[0])):\r\n",
    "        sum = 0\r\n",
    "        for k in range(len(a[0])):\r\n",
    "            sum += a[i][k] * b[k][j]\r\n",
    "        current.append(sum)\r\n",
    "print(result)\r\n"
   ],
   "outputs": [
    {
     "output_type": "stream",
     "name": "stdout",
     "text": [
      "[[12, 27, 30, 13], [8, -4, 26, 12]]\n"
     ]
    }
   ],
   "metadata": {}
  }
 ],
 "metadata": {
  "orig_nbformat": 4,
  "language_info": {
   "name": "python",
   "version": "3.9.1",
   "mimetype": "text/x-python",
   "codemirror_mode": {
    "name": "ipython",
    "version": 3
   },
   "pygments_lexer": "ipython3",
   "nbconvert_exporter": "python",
   "file_extension": ".py"
  },
  "kernelspec": {
   "name": "python3",
   "display_name": "Python 3.9.1 64-bit"
  },
  "interpreter": {
   "hash": "ac59ebe37160ed0dfa835113d9b8498d9f09ceb179beaac4002f036b9467c963"
  }
 },
 "nbformat": 4,
 "nbformat_minor": 2
}