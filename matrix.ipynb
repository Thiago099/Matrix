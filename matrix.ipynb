{
 "cells": [
  {
   "cell_type": "code",
   "execution_count": 45,
   "source": [
    "def multiply(a, b):\r\n",
    "    if(len(a[0]) != len(b)):\r\n",
    "        return False\r\n",
    "    result = []\r\n",
    "    for i in range(len(a)):\r\n",
    "        current = []\r\n",
    "        result.append(current)\r\n",
    "        for j in range(len(b[0])):\r\n",
    "            sum = 0\r\n",
    "            for k in range(len(a[0])):\r\n",
    "                sum += a[i][k] * b[k][j]\r\n",
    "            current.append(sum)\r\n",
    "    return result\r\n",
    "\r\n",
    "def operate_constant(a, b, operation):\r\n",
    "    result = []\r\n",
    "    for i in range(len(a)):\r\n",
    "        current = []\r\n",
    "        result.append(current)\r\n",
    "        for j in range(len(a[i])):\r\n",
    "            current.append(operation(a[i][j], b))\r\n",
    "    return result\r\n",
    "\r\n",
    "def multiply_constant(a, b):\r\n",
    "    return operate_constant(a, b,lambda a, b: a * b)\r\n",
    "\r\n",
    "def divide_constant(a, b):\r\n",
    "    return operate_constant(a, b,lambda a, b: a / b)\r\n",
    "\r\n",
    "def transpose(vec):\r\n",
    "    result = []\r\n",
    "    for i in range(len(vec[0])):\r\n",
    "        current = []\r\n",
    "        result.append(current)\r\n",
    "        for j in range(len(vec)):\r\n",
    "            current.append(vec[j][i])\r\n",
    "    return result\r\n",
    "\r\n",
    "def trace(vec):\r\n",
    "    if(len(vec) != len(vec[0])):\r\n",
    "        return False\r\n",
    "    result = 0\r\n",
    "    for i in range(len(vec)):\r\n",
    "        result += vec[i][i]\r\n",
    "    return result\r\n",
    "\r\n",
    "def printr(vec):\r\n",
    "    for i in vec:\r\n",
    "        print(i)\r\n",
    "    print()\r\n"
   ],
   "outputs": [],
   "metadata": {}
  },
  {
   "cell_type": "code",
   "execution_count": 49,
   "source": [
    "a = [\r\n",
    "    [1, 2, 4],\r\n",
    "    [2, 6, 0]\r\n",
    "]\r\n",
    "\r\n",
    "b = [\r\n",
    "    [4, 1, 4, 3],\r\n",
    "    [0,-1, 3, 1],\r\n",
    "    [2, 7, 5, 2]\r\n",
    "]\r\n",
    "\r\n",
    "printr(multiply(a, b))"
   ],
   "outputs": [
    {
     "output_type": "stream",
     "name": "stdout",
     "text": [
      "[12, 27, 30, 13]\n",
      "[8, -4, 26, 12]\n",
      "\n",
      "[2, 1, 5]\n",
      "[3, 4, 6]\n",
      "\n",
      "[20, 30]\n",
      "[10, 40]\n",
      "[50, 60]\n",
      "\n",
      "15\n"
     ]
    }
   ],
   "metadata": {}
  },
  {
   "cell_type": "code",
   "execution_count": 50,
   "source": [
    "c = [\r\n",
    "    [2, 3],\r\n",
    "    [1, 4],\r\n",
    "    [5, 6]\r\n",
    "]\r\n",
    "\r\n",
    "printr(transpose(c))\r\n",
    "\r\n",
    "printr(multiply_constant(c,10))"
   ],
   "outputs": [
    {
     "output_type": "stream",
     "name": "stdout",
     "text": [
      "[2, 1, 5]\n",
      "[3, 4, 6]\n",
      "\n",
      "[20, 30]\n",
      "[10, 40]\n",
      "[50, 60]\n",
      "\n"
     ]
    }
   ],
   "metadata": {}
  },
  {
   "cell_type": "code",
   "execution_count": 51,
   "source": [
    "d = [\r\n",
    "    [1, 2, 3],\r\n",
    "    [4, 5, 6],\r\n",
    "    [7, 8, 9],\r\n",
    "]\r\n",
    "\r\n",
    "print(trace(d))"
   ],
   "outputs": [
    {
     "output_type": "stream",
     "name": "stdout",
     "text": [
      "15\n"
     ]
    }
   ],
   "metadata": {}
  }
 ],
 "metadata": {
  "orig_nbformat": 4,
  "language_info": {
   "name": "python",
   "version": "3.9.1",
   "mimetype": "text/x-python",
   "codemirror_mode": {
    "name": "ipython",
    "version": 3
   },
   "pygments_lexer": "ipython3",
   "nbconvert_exporter": "python",
   "file_extension": ".py"
  },
  "kernelspec": {
   "name": "python3",
   "display_name": "Python 3.9.1 64-bit"
  },
  "interpreter": {
   "hash": "ac59ebe37160ed0dfa835113d9b8498d9f09ceb179beaac4002f036b9467c963"
  }
 },
 "nbformat": 4,
 "nbformat_minor": 2
}